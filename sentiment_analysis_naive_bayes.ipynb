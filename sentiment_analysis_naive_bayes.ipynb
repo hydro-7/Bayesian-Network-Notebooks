{
 "cells": [
  {
   "cell_type": "markdown",
   "id": "725286e8",
   "metadata": {},
   "source": [
    "# **SENTIMENT ANALYSIS USING NAIVE BAYES**"
   ]
  },
  {
   "cell_type": "code",
   "execution_count": 1,
   "id": "b64c6083",
   "metadata": {},
   "outputs": [],
   "source": [
    "import numpy as np\n",
    "import pandas as pd\n",
    "import re\n",
    "import string\n",
    "import nltk\n",
    "from nltk.tokenize import word_tokenize\n",
    "from nltk.corpus import stopwords\n",
    "from nltk.stem.porter import PorterStemmer"
   ]
  },
  {
   "cell_type": "code",
   "execution_count": 2,
   "id": "d0c88e8c",
   "metadata": {},
   "outputs": [
    {
     "name": "stderr",
     "output_type": "stream",
     "text": [
      "[nltk_data] Downloading package stopwords to\n",
      "[nltk_data]     C:\\Users\\paart\\AppData\\Roaming\\nltk_data...\n",
      "[nltk_data]   Package stopwords is already up-to-date!\n"
     ]
    },
    {
     "data": {
      "text/plain": [
       "True"
      ]
     },
     "execution_count": 2,
     "metadata": {},
     "output_type": "execute_result"
    }
   ],
   "source": [
    "nltk.download('stopwords')"
   ]
  },
  {
   "cell_type": "markdown",
   "id": "c177cb7f",
   "metadata": {},
   "source": [
    "### **Creating Dataset**\n"
   ]
  },
  {
   "cell_type": "code",
   "execution_count": 3,
   "id": "d7fbd9fb",
   "metadata": {},
   "outputs": [],
   "source": [
    "data = [\n",
    "    (\"I love this movie\", \"positive\"),\n",
    "    (\"This is a great product\", \"positive\"),\n",
    "    (\"Amazing experience, very happy\", \"positive\"),\n",
    "    (\"I hate this movie\", \"negative\"),\n",
    "    (\"This is a terrible product\", \"negative\"),\n",
    "    (\"Awful experience, very disappointed\", \"negative\")\n",
    "]"
   ]
  },
  {
   "cell_type": "markdown",
   "id": "ec528cdf",
   "metadata": {},
   "source": [
    "### **Cleaning Dataset**"
   ]
  },
  {
   "cell_type": "code",
   "execution_count": 4,
   "id": "64daac52",
   "metadata": {},
   "outputs": [],
   "source": [
    "def Clean(S):\n",
    "\n",
    "    S = S.lower()                                                                                         # Convert to lowercase\n",
    "    S = re.sub(r\"[^a-z\\s]\", \"\", S)                                                                        # Removes the punctuations \n",
    "\n",
    "    tokens = S.split()                                                                                    # Get words from sentence \n",
    "    stop_words = set(stopwords.words(\"english\"))                                                          # Get the commonly used english connecting words\n",
    "    stop_words.discard(\"not\")                                                                             # 'not' is important for sentiments\n",
    "    PS = PorterStemmer()                                                                                  # Gets the root of the word  [fishing -> fish]\n",
    "\n",
    "    words = [PS.stem(w) for w in tokens if not w in stop_words]                                           # List of cleaned words\n",
    "    New_Sentence = ' '.join(words)                                                                        # Cleaned sentence\n",
    "\n",
    "    return New_Sentence    "
   ]
  },
  {
   "cell_type": "code",
   "execution_count": 5,
   "id": "27ed42e3",
   "metadata": {},
   "outputs": [],
   "source": [
    "cleaned_data = []\n",
    "for pair in data:\n",
    "    sentence, sentiment = pair[0], pair[1]\n",
    "    sentence = Clean(sentence)\n",
    "    cleaned_data.append((sentence, sentiment))\n",
    "\n",
    "\n",
    "words = []\n",
    "for sentence, sentiment in cleaned_data:\n",
    "    word_list = sentence.split(' ')\n",
    "    words.extend(word_list)\n",
    "words = sorted(list(set(words)))\n",
    "\n",
    "# cleaned_data -> [ (sen, senti) ], words -> []"
   ]
  },
  {
   "cell_type": "markdown",
   "id": "4f1a1647",
   "metadata": {},
   "source": [
    "### **Creating Bag of Words Table**"
   ]
  },
  {
   "cell_type": "code",
   "execution_count": 7,
   "id": "2164d529",
   "metadata": {},
   "outputs": [],
   "source": [
    "def find(w, s):\n",
    "    n = len(s)\n",
    "    for i in range(0, n):\n",
    "        if(w == s[i]):\n",
    "            return i\n",
    "    return -1"
   ]
  },
  {
   "cell_type": "code",
   "execution_count": 8,
   "id": "4347eecc",
   "metadata": {},
   "outputs": [
    {
     "data": {
      "text/plain": [
       "[[0, 0, 0, 0, 0, 0, 0, 1, 1, 0, 0, 1],\n",
       " [0, 0, 0, 0, 1, 0, 0, 0, 0, 1, 0, 1],\n",
       " [1, 0, 0, 1, 0, 1, 0, 0, 0, 0, 0, 1],\n",
       " [0, 0, 0, 0, 0, 0, 1, 0, 1, 0, 0, 0],\n",
       " [0, 0, 0, 0, 0, 0, 0, 0, 0, 1, 1, 0],\n",
       " [0, 1, 1, 1, 0, 0, 0, 0, 0, 0, 0, 0]]"
      ]
     },
     "execution_count": 8,
     "metadata": {},
     "output_type": "execute_result"
    }
   ],
   "source": [
    "n_rows, n_cols = len(data), len(words) + 1                                      # n_cols = words + sentence sentiment (output)\n",
    "table = [[0 for _ in range(n_cols)] for _ in range(n_rows)] \n",
    "word_count = [0 for _ in range(n_cols - 1)]\n",
    "\n",
    "for i in range(n_rows):\n",
    "\n",
    "    if(cleaned_data[i][1] == 'positive'):\n",
    "        table[i][-1] = 1\n",
    "    else:\n",
    "        table[i][-1] = 0\n",
    "\n",
    "    for w in cleaned_data[i][0].split(' '):\n",
    "        idx = find(w, words)\n",
    "        table[i][idx] = 1\n",
    "        word_count[idx] += 1\n",
    "table"
   ]
  },
  {
   "cell_type": "markdown",
   "id": "aef5b3aa",
   "metadata": {},
   "source": [
    "### **Naive Bayes**"
   ]
  },
  {
   "cell_type": "code",
   "execution_count": 9,
   "id": "26416bf3",
   "metadata": {},
   "outputs": [],
   "source": [
    "prob_pos, prob_neg  = 0.5, 0.5\n",
    "\n",
    "p_word_count = [0 for _ in range(n_cols - 1)]\n",
    "n_word_count = [0 for _ in range(n_cols - 1)]\n",
    "\n",
    "p_cleaned = cleaned_data[:3]\n",
    "n_cleaned = cleaned_data[3:]\n",
    "\n",
    "for i in range(len(p_cleaned)):\n",
    "    for w in p_cleaned[i][0].split(' '):\n",
    "        idx = find(w, words)\n",
    "        p_word_count[idx] += 1\n",
    "    for w in n_cleaned[i][0].split(' '):\n",
    "        idx = find(w, words)\n",
    "        n_word_count[idx] += 1"
   ]
  },
  {
   "cell_type": "markdown",
   "id": "95b52866",
   "metadata": {},
   "source": [
    "**NOTE:**\n",
    "Some of the problems that arise when using a normal bayes probability calculation are :\n",
    "- No measure for unknown words\n",
    "- For confusing statements, in the same statement $p \\_ word \\_ count[i] = 0$ and $n \\_ word \\_ count[j] = 0$ which leads to $positive = 0$ and $negative = 0$. \n",
    "\n",
    "To solve this, \n",
    "\n",
    "Let $V$ = Vocabulary (Number of current known words) and T_C = Total words in C\n",
    "\n",
    "$$\n",
    "P(Unknown \\_ Word \\mid C) = \\frac{0 + \\epsilon}{T_C + \\epsilon V}\n",
    "$$\n",
    "\n",
    "Furthermore, Laplacian Smoothing to have Non - Zero Probabilities, where $\\epsilon$ is any non - zero value\n",
    "\n",
    "$$\n",
    "P(w_i \\mid C) = \\frac{count(w_i, C) + \\epsilon}{T_C + \\epsilon  V}"
   ]
  },
  {
   "cell_type": "code",
   "execution_count": 17,
   "id": "3770953e",
   "metadata": {},
   "outputs": [],
   "source": [
    "test_sentence = \"This movie is terrible ! I love it !\"\n",
    "test_sentence = Clean(test_sentence)\n",
    "\n",
    "positive, negative = prob_pos, prob_neg\n",
    "\n",
    "for w in test_sentence.split(' '):\n",
    "    idx = find(w, words)\n",
    "\n",
    "    if(idx == -1):\n",
    "            positive = positive * (1)/(len(p_word_count) + len(words))\n",
    "            negative = negative * (1)/(len(n_word_count) + len(words))\n",
    "    else:\n",
    "        positive = positive * (p_word_count[idx] + 0.1) / (word_count[idx] + len(words))\n",
    "        negative = negative * (n_word_count[idx] + 0.1) / (word_count[idx] + len(words))"
   ]
  },
  {
   "cell_type": "code",
   "execution_count": 18,
   "id": "01bae51a",
   "metadata": {},
   "outputs": [
    {
     "name": "stdout",
     "output_type": "stream",
     "text": [
      "The probability of a positive sentiment is 50.0%\n",
      "The probability of a positive sentiment is 49.999999999999986%\n"
     ]
    }
   ],
   "source": [
    "print(f\"The probability of a positive sentiment is {(positive/(positive + negative))*100}%\")\n",
    "print(f\"The probability of a positive sentiment is {(negative/(positive + negative))*100}%\")"
   ]
  }
 ],
 "metadata": {
  "kernelspec": {
   "display_name": "base",
   "language": "python",
   "name": "python3"
  },
  "language_info": {
   "codemirror_mode": {
    "name": "ipython",
    "version": 3
   },
   "file_extension": ".py",
   "mimetype": "text/x-python",
   "name": "python",
   "nbconvert_exporter": "python",
   "pygments_lexer": "ipython3",
   "version": "3.12.7"
  }
 },
 "nbformat": 4,
 "nbformat_minor": 5
}
